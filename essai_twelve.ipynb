{
 "cells": [
  {
   "cell_type": "code",
   "execution_count": 38,
   "id": "34228c42-2ab5-4565-97b2-829e34f7c10a",
   "metadata": {},
   "outputs": [
    {
     "data": {
      "text/plain": [
       "requests.models.Response"
      ]
     },
     "execution_count": 38,
     "metadata": {},
     "output_type": "execute_result"
    }
   ],
   "source": [
    "import requests\n",
    "import csv\n",
    "import io\n",
    "\n",
    "response_AAPL = requests.get(\"https://api.twelvedata.com/time_series?apikey=77d82465af6f42aa8832e39f63204307&interval=30min&symbol=AAPL&start_date=2022-11-30 00:00:00&end_date=2023-11-30 00:00:00&format=CSV&outputsize=5000\")\n",
    "type(response)\n",
    "#print(response.text)\n",
    "\n",
    "#df = pd.read_csv(io.StringIO(response.text), sep=',', header=1, usecols=['Jour', 'Ouverture', 'Valeur maximale', 'Valeur minimale', 'Fermeture', 'Volume'] , quoting=csv.QUOTE_ALL) \n"
   ]
  },
  {
   "cell_type": "code",
   "execution_count": 39,
   "id": "ad008afd-3bfb-4891-acfb-f7f0bb466846",
   "metadata": {},
   "outputs": [
    {
     "name": "stdout",
     "output_type": "stream",
     "text": [
      "              datetime       open       high        low      close   volume\n",
      "0  2023-11-29 15:30:00  189.00999  189.44501  188.97000  189.35500  4438836\n",
      "1  2023-11-29 15:00:00  189.33000  189.40500  189.00999  189.01500  1816329\n",
      "2  2023-11-29 14:30:00  189.26500  189.35500  189.05000  189.33000  1528641\n",
      "3  2023-11-29 14:00:00  189.47000  189.50000  189.17999  189.26350  1550574\n",
      "4  2023-11-29 13:30:00  189.50500  189.50999  189.17999  189.46500  1360880\n",
      "5  2023-11-29 13:00:00  189.71001  189.75500  189.28000  189.50031  1664234\n",
      "6  2023-11-29 12:30:00  189.89000  189.92999  189.66499  189.70219  1284966\n",
      "7  2023-11-29 12:00:00  189.92010  190.00000  189.52000  189.89999  1864451\n",
      "8  2023-11-29 11:30:00  190.10001  190.27499  189.91029  189.92000  2322368\n",
      "9  2023-11-29 11:00:00  190.93500  190.95500  190.05000  190.09740  2626330\n"
     ]
    }
   ],
   "source": [
    "df = pd.read_csv(io.StringIO(response.text), sep=';', header=0, quoting=csv.QUOTE_ALL) \n",
    "print(df.head(10))"
   ]
  },
  {
   "cell_type": "code",
   "execution_count": null,
   "id": "2c9c6a87-c498-4bfc-b4fe-ab81ae094b38",
   "metadata": {},
   "outputs": [],
   "source": []
  },
  {
   "cell_type": "code",
   "execution_count": null,
   "id": "dda92a9d-3b90-405e-8374-890d267b71cb",
   "metadata": {},
   "outputs": [],
   "source": []
  }
 ],
 "metadata": {
  "kernelspec": {
   "display_name": "Python 3 (ipykernel)",
   "language": "python",
   "name": "python3"
  },
  "language_info": {
   "codemirror_mode": {
    "name": "ipython",
    "version": 3
   },
   "file_extension": ".py",
   "mimetype": "text/x-python",
   "name": "python",
   "nbconvert_exporter": "python",
   "pygments_lexer": "ipython3",
   "version": "3.10.13"
  }
 },
 "nbformat": 4,
 "nbformat_minor": 5
}
