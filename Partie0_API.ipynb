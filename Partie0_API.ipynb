{
 "cells": [
  {
   "cell_type": "markdown",
   "id": "4968b190-0c49-4584-9b27-148a2275a0ab",
   "metadata": {},
   "source": [
    "# Partie 0 : API"
   ]
  },
  {
   "cell_type": "code",
   "execution_count": 7,
   "id": "34228c42-2ab5-4565-97b2-829e34f7c10a",
   "metadata": {},
   "outputs": [],
   "source": [
    "import requests\n",
    "import csv\n",
    "import pandas as pd\n",
    "import matplotlib.pyplot as plt\n",
    "\n",
    "\n",
    "# Avec twelve data on recupère les données boursières de Google respectivement en prenant:\n",
    "# Une période d'un an allant du 01/11/2022 au 01/11/2023, les cours à 30 minutes d'intervalles, et on recolte 5000 données par indice\n",
    "response_GOOGL = requests.get(\"https://api.twelvedata.com/time_series?apikey=77d82465af6f42aa8832e39f63204307&interval=30min&symbol=GOOGL&type=stock&start_date=2022-11-01 00:00:00&end_date=2023-11-01 00:00:00&format=CSV&dp=4&outputsize=5000\")\n"
   ]
  },
  {
   "cell_type": "code",
   "execution_count": 2,
   "id": "0e587024-28e3-4970-8e47-68c5fb39c4b7",
   "metadata": {},
   "outputs": [
    {
     "name": "stdout",
     "output_type": "stream",
     "text": [
      "Les données ont été enregistrées avec succès dans data_GOOGL\n"
     ]
    }
   ],
   "source": [
    "# On convertit les requetes en des fichiers Csv, qu'on nomme explicitement en fonction de chaque indice\n",
    "\n",
    "def response_to_csv(response, csv_filename='output.csv'):\n",
    "    try:\n",
    "        response.raise_for_status()  # Lève une exception si la requête n'a pas réussi\n",
    "\n",
    "        data = [line.split(';') for line in response.text.split('\\n')]\n",
    "\n",
    "        with open(csv_filename, 'w', newline='') as csv_file:\n",
    "            csv.writer(csv_file, delimiter=' ').writerows(data)\n",
    "\n",
    "        print(f\"Les données ont été enregistrées avec succès dans {csv_filename}\")\n",
    "\n",
    "    except requests.exceptions.RequestException as err:\n",
    "        print(f\"Erreur de requête : {err}\")\n",
    "\n",
    "response_to_csv(response_GOOGL, 'data_GOOGL')\n"
   ]
  },
  {
   "cell_type": "code",
   "execution_count": 9,
   "id": "ad008afd-3bfb-4891-acfb-f7f0bb466846",
   "metadata": {},
   "outputs": [
    {
     "data": {
      "text/html": [
       "<div>\n",
       "<style scoped>\n",
       "    .dataframe tbody tr th:only-of-type {\n",
       "        vertical-align: middle;\n",
       "    }\n",
       "\n",
       "    .dataframe tbody tr th {\n",
       "        vertical-align: top;\n",
       "    }\n",
       "\n",
       "    .dataframe thead th {\n",
       "        text-align: right;\n",
       "    }\n",
       "</style>\n",
       "<table border=\"1\" class=\"dataframe\">\n",
       "  <thead>\n",
       "    <tr style=\"text-align: right;\">\n",
       "      <th></th>\n",
       "      <th>datetime open high low close volume</th>\n",
       "    </tr>\n",
       "  </thead>\n",
       "  <tbody>\n",
       "    <tr>\n",
       "      <th>0</th>\n",
       "      <td>2023-10-31 15:30:00 123.9300 124.2200 123.8300...</td>\n",
       "    </tr>\n",
       "    <tr>\n",
       "      <th>1</th>\n",
       "      <td>2023-10-31 15:00:00 123.7800 124.0050 123.7400...</td>\n",
       "    </tr>\n",
       "    <tr>\n",
       "      <th>2</th>\n",
       "      <td>2023-10-31 14:30:00 123.3800 123.8700 123.3100...</td>\n",
       "    </tr>\n",
       "    <tr>\n",
       "      <th>3</th>\n",
       "      <td>2023-10-31 14:00:00 123.5400 123.8050 123.3600...</td>\n",
       "    </tr>\n",
       "    <tr>\n",
       "      <th>4</th>\n",
       "      <td>2023-10-31 13:30:00 123.2300 123.6600 123.1550...</td>\n",
       "    </tr>\n",
       "  </tbody>\n",
       "</table>\n",
       "</div>"
      ],
      "text/plain": [
       "                 datetime open high low close volume\n",
       "0  2023-10-31 15:30:00 123.9300 124.2200 123.8300...\n",
       "1  2023-10-31 15:00:00 123.7800 124.0050 123.7400...\n",
       "2  2023-10-31 14:30:00 123.3800 123.8700 123.3100...\n",
       "3  2023-10-31 14:00:00 123.5400 123.8050 123.3600...\n",
       "4  2023-10-31 13:30:00 123.2300 123.6600 123.1550..."
      ]
     },
     "execution_count": 9,
     "metadata": {},
     "output_type": "execute_result"
    }
   ],
   "source": [
    "# Observations des données contenues dans les fichiers csv sous forme de dataframes\n",
    "\n",
    "# Chemin vers le fichier CSV\n",
    "csv_filename = 'data_GOOGL'\n",
    "\n",
    "# Chargez le fichier CSV dans un DataFrame\n",
    "df_GOOGL = pd.read_csv(csv_filename)  \n",
    "\n",
    "df_GOOGL.head(5)\n"
   ]
  },
  {
   "cell_type": "code",
   "execution_count": null,
   "id": "0821af8a-eacc-4719-a42c-a4abbd4018ae",
   "metadata": {},
   "outputs": [],
   "source": []
  }
 ],
 "metadata": {
  "kernelspec": {
   "display_name": "Python 3 (ipykernel)",
   "language": "python",
   "name": "python3"
  },
  "language_info": {
   "codemirror_mode": {
    "name": "ipython",
    "version": 3
   },
   "file_extension": ".py",
   "mimetype": "text/x-python",
   "name": "python",
   "nbconvert_exporter": "python",
   "pygments_lexer": "ipython3",
   "version": "3.10.13"
  }
 },
 "nbformat": 4,
 "nbformat_minor": 5
}
