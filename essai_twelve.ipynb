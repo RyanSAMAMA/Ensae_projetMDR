{
 "cells": [
  {
   "cell_type": "code",
   "execution_count": 19,
   "id": "34228c42-2ab5-4565-97b2-829e34f7c10a",
   "metadata": {},
   "outputs": [],
   "source": [
    "import requests\n",
    "import csv\n",
    "import pandas as pd\n",
    "import matplotlib.pyplot as plt\n",
    "\n",
    "\n",
    "# Avec twelve data on recupère les données boursières des GAFAM respectivement en prenant:\n",
    "# Une période d'un an allant du 01/11/2022 au 01/11/2023, les cours à 30 minutes d'intervalles, et on recolte 5000 données par indice\n",
    "response_GOOGL = requests.get(\"https://api.twelvedata.com/time_series?apikey=77d82465af6f42aa8832e39f63204307&interval=30min&symbol=GOOGL&type=stock&start_date=2022-11-01 00:00:00&end_date=2023-11-01 00:00:00&format=CSV&dp=4&outputsize=5000\")\n",
    "#response_AMZN = requests.get(\"https://api.twelvedata.com/time_series?apikey=77d82465af6f42aa8832e39f63204307&interval=30min&symbol=AAPL&start_date=2022-11-30 00:00:00&end_date=2023-11-30 00:00:00&format=CSV&outputsize=5000\")\n",
    "#response_META = requests.get(\"https://api.twelvedata.com/time_series?apikey=77d82465af6f42aa8832e39f63204307&interval=30min&symbol=AAPL&start_date=2022-11-30 00:00:00&end_date=2023-11-30 00:00:00&format=CSV&outputsize=5000\")\n",
    "#response_AAPL = requests.get(\"https://api.twelvedata.com/time_series?apikey=77d82465af6f42aa8832e39f63204307&interval=30min&symbol=AAPL&start_date=2022-11-30 00:00:00&end_date=2023-11-30 00:00:00&format=CSV&outputsize=5000\")\n",
    "#response_MSFT = requests.get(\"https://api.twelvedata.com/time_series?apikey=77d82465af6f42aa8832e39f63204307&interval=1min&symbol=MSFT&type=stock&start_date=2022-11-01 00:00:00&end_date=2023-11-01 00:00:00&format=CSV&outputsize=3000\")\n",
    "# Pour les autres en commentaires ce ne sont pas les bons url\n"
   ]
  },
  {
   "cell_type": "code",
   "execution_count": 20,
   "id": "0e587024-28e3-4970-8e47-68c5fb39c4b7",
   "metadata": {},
   "outputs": [
    {
     "name": "stdout",
     "output_type": "stream",
     "text": [
      "Les données ont été enregistrées avec succès dans data_GOOGL\n"
     ]
    }
   ],
   "source": [
    "# On convertit les requetes en des fichiers Csv, qu'on nomme explicitement en fonction de chaque indice\n",
    "\n",
    "def response_to_csv(response, csv_filename='output.csv'):\n",
    "    try:\n",
    "        response.raise_for_status()  # Lève une exception si la requête n'a pas réussi\n",
    "\n",
    "        data = [line.split(';') for line in response.text.split('\\n')]\n",
    "\n",
    "        with open(csv_filename, 'w', newline='') as csv_file:\n",
    "            csv.writer(csv_file, delimiter=' ').writerows(data)\n",
    "\n",
    "        print(f\"Les données ont été enregistrées avec succès dans {csv_filename}\")\n",
    "\n",
    "    except requests.exceptions.RequestException as err:\n",
    "        print(f\"Erreur de requête : {err}\")\n",
    "\n",
    "response_to_csv(response_GOOGL, 'data_GOOGL')\n",
    "#response_to_csv(response_AMZN, 'data_AMZN')\n",
    "#response_to_csv(response_META, 'data_META')\n",
    "#response_to_csv(response_AAPL, 'data_AAPL')\n",
    "#response_to_csv(response_MSFT, 'data_MSFT')"
   ]
  },
  {
   "cell_type": "code",
   "execution_count": 44,
   "id": "ad008afd-3bfb-4891-acfb-f7f0bb466846",
   "metadata": {},
   "outputs": [
    {
     "data": {
      "text/html": [
       "<div>\n",
       "<style scoped>\n",
       "    .dataframe tbody tr th:only-of-type {\n",
       "        vertical-align: middle;\n",
       "    }\n",
       "\n",
       "    .dataframe tbody tr th {\n",
       "        vertical-align: top;\n",
       "    }\n",
       "\n",
       "    .dataframe thead th {\n",
       "        text-align: right;\n",
       "    }\n",
       "</style>\n",
       "<table border=\"1\" class=\"dataframe\">\n",
       "  <thead>\n",
       "    <tr style=\"text-align: right;\">\n",
       "      <th></th>\n",
       "      <th>Datetime</th>\n",
       "      <th>Open</th>\n",
       "      <th>High</th>\n",
       "      <th>Low</th>\n",
       "      <th>Close</th>\n",
       "      <th>Volume</th>\n",
       "    </tr>\n",
       "  </thead>\n",
       "  <tbody>\n",
       "    <tr>\n",
       "      <th>0</th>\n",
       "      <td>2023-10-31 15:30:00 123.9300 124.2200 123.8300...</td>\n",
       "      <td>NaN</td>\n",
       "      <td>NaN</td>\n",
       "      <td>NaN</td>\n",
       "      <td>NaN</td>\n",
       "      <td>NaN</td>\n",
       "    </tr>\n",
       "    <tr>\n",
       "      <th>1</th>\n",
       "      <td>2023-10-31 15:00:00 123.7800 124.0050 123.7400...</td>\n",
       "      <td>NaN</td>\n",
       "      <td>NaN</td>\n",
       "      <td>NaN</td>\n",
       "      <td>NaN</td>\n",
       "      <td>NaN</td>\n",
       "    </tr>\n",
       "    <tr>\n",
       "      <th>2</th>\n",
       "      <td>2023-10-31 14:30:00 123.3800 123.8700 123.3100...</td>\n",
       "      <td>NaN</td>\n",
       "      <td>NaN</td>\n",
       "      <td>NaN</td>\n",
       "      <td>NaN</td>\n",
       "      <td>NaN</td>\n",
       "    </tr>\n",
       "    <tr>\n",
       "      <th>3</th>\n",
       "      <td>2023-10-31 14:00:00 123.5400 123.8050 123.3600...</td>\n",
       "      <td>NaN</td>\n",
       "      <td>NaN</td>\n",
       "      <td>NaN</td>\n",
       "      <td>NaN</td>\n",
       "      <td>NaN</td>\n",
       "    </tr>\n",
       "  </tbody>\n",
       "</table>\n",
       "</div>"
      ],
      "text/plain": [
       "                                            Datetime  Open  High  Low  Close  \\\n",
       "0  2023-10-31 15:30:00 123.9300 124.2200 123.8300...   NaN   NaN  NaN    NaN   \n",
       "1  2023-10-31 15:00:00 123.7800 124.0050 123.7400...   NaN   NaN  NaN    NaN   \n",
       "2  2023-10-31 14:30:00 123.3800 123.8700 123.3100...   NaN   NaN  NaN    NaN   \n",
       "3  2023-10-31 14:00:00 123.5400 123.8050 123.3600...   NaN   NaN  NaN    NaN   \n",
       "\n",
       "   Volume  \n",
       "0     NaN  \n",
       "1     NaN  \n",
       "2     NaN  \n",
       "3     NaN  "
      ]
     },
     "execution_count": 44,
     "metadata": {},
     "output_type": "execute_result"
    }
   ],
   "source": [
    "# Observations des données contenues dans les fichiers csv sous forme de dataframes\n",
    "\n",
    "# Chemin vers le fichier CSV\n",
    "csv_filename = 'data_GOOGL'\n",
    "\n",
    "# Chargez le fichier CSV dans un DataFrame\n",
    "df_GOOGL = pd.read_csv(csv_filename, delimiter=';',header=None, skiprows=[0], names= ['Datetime', 'Open', 'High', 'Low', 'Close', 'Volume'])  \n",
    "\n",
    "df_GOOGL.head(4)\n",
    "\n",
    "# On crée une colonne moyenne pour regarde les moyennes journalières des cours\n",
    "#df_GOOGL['Daymean'] = [ for i in range() if "
   ]
  },
  {
   "cell_type": "code",
   "execution_count": 22,
   "id": "2c9c6a87-c498-4bfc-b4fe-ab81ae094b38",
   "metadata": {},
   "outputs": [],
   "source": [
    "# MOYENNE MOBILE"
   ]
  },
  {
   "cell_type": "code",
   "execution_count": 40,
   "id": "dda92a9d-3b90-405e-8374-890d267b71cb",
   "metadata": {},
   "outputs": [
    {
     "name": "stdout",
     "output_type": "stream",
     "text": [
      "Index(['datetime open high low close volume'], dtype='object')\n"
     ]
    }
   ],
   "source": [
    "# le but de cette sectuion est de prédire les valeurs futures du marché comme étant les moyennes sur les x derniers jours\n",
    "\n",
    "# Charger les données depuis le fichier CSV\n",
    "data = pd.read_csv('data_GOOGL')\n",
    "#data.columns=['Datetime', 'Open', 'High', 'Low', 'Close', 'Volume']\n",
    "#data.head(3)\n",
    "print(data.columns)\n",
    "#print(data['close'])"
   ]
  },
  {
   "cell_type": "code",
   "execution_count": 26,
   "id": "f332893c-eb6e-48fb-a817-eea786ce10f9",
   "metadata": {},
   "outputs": [
    {
     "ename": "KeyError",
     "evalue": "'close'",
     "output_type": "error",
     "traceback": [
      "\u001b[0;31m---------------------------------------------------------------------------\u001b[0m",
      "\u001b[0;31mKeyError\u001b[0m                                  Traceback (most recent call last)",
      "File \u001b[0;32m/opt/mamba/lib/python3.10/site-packages/pandas/core/indexes/base.py:3790\u001b[0m, in \u001b[0;36mIndex.get_loc\u001b[0;34m(self, key)\u001b[0m\n\u001b[1;32m   3789\u001b[0m \u001b[38;5;28;01mtry\u001b[39;00m:\n\u001b[0;32m-> 3790\u001b[0m     \u001b[38;5;28;01mreturn\u001b[39;00m \u001b[38;5;28;43mself\u001b[39;49m\u001b[38;5;241;43m.\u001b[39;49m\u001b[43m_engine\u001b[49m\u001b[38;5;241;43m.\u001b[39;49m\u001b[43mget_loc\u001b[49m\u001b[43m(\u001b[49m\u001b[43mcasted_key\u001b[49m\u001b[43m)\u001b[49m\n\u001b[1;32m   3791\u001b[0m \u001b[38;5;28;01mexcept\u001b[39;00m \u001b[38;5;167;01mKeyError\u001b[39;00m \u001b[38;5;28;01mas\u001b[39;00m err:\n",
      "File \u001b[0;32mindex.pyx:152\u001b[0m, in \u001b[0;36mpandas._libs.index.IndexEngine.get_loc\u001b[0;34m()\u001b[0m\n",
      "File \u001b[0;32mindex.pyx:181\u001b[0m, in \u001b[0;36mpandas._libs.index.IndexEngine.get_loc\u001b[0;34m()\u001b[0m\n",
      "File \u001b[0;32mpandas/_libs/hashtable_class_helper.pxi:7080\u001b[0m, in \u001b[0;36mpandas._libs.hashtable.PyObjectHashTable.get_item\u001b[0;34m()\u001b[0m\n",
      "File \u001b[0;32mpandas/_libs/hashtable_class_helper.pxi:7088\u001b[0m, in \u001b[0;36mpandas._libs.hashtable.PyObjectHashTable.get_item\u001b[0;34m()\u001b[0m\n",
      "\u001b[0;31mKeyError\u001b[0m: 'close'",
      "\nThe above exception was the direct cause of the following exception:\n",
      "\u001b[0;31mKeyError\u001b[0m                                  Traceback (most recent call last)",
      "Cell \u001b[0;32mIn[26], line 9\u001b[0m\n\u001b[1;32m      6\u001b[0m window \u001b[38;5;241m=\u001b[39m \u001b[38;5;241m10\u001b[39m  \u001b[38;5;66;03m# Vous pouvez ajuster la taille de la fenêtre selon vos besoins\u001b[39;00m\n\u001b[1;32m      8\u001b[0m \u001b[38;5;66;03m# Calcul de la moyenne mobile de l'écart type sur la colonne appropriée\u001b[39;00m\n\u001b[0;32m----> 9\u001b[0m data[\u001b[38;5;124m'\u001b[39m\u001b[38;5;124mMMET\u001b[39m\u001b[38;5;124m'\u001b[39m] \u001b[38;5;241m=\u001b[39m moyenne_mobile_ecart_type(\u001b[43mdata\u001b[49m\u001b[43m[\u001b[49m\u001b[38;5;124;43m'\u001b[39;49m\u001b[38;5;124;43mclose\u001b[39;49m\u001b[38;5;124;43m'\u001b[39;49m\u001b[43m]\u001b[49m, window)\n\u001b[1;32m     11\u001b[0m \u001b[38;5;66;03m# Tracé des résultats\u001b[39;00m\n\u001b[1;32m     12\u001b[0m plt\u001b[38;5;241m.\u001b[39mfigure(figsize\u001b[38;5;241m=\u001b[39m(\u001b[38;5;241m10\u001b[39m, \u001b[38;5;241m6\u001b[39m))\n",
      "File \u001b[0;32m/opt/mamba/lib/python3.10/site-packages/pandas/core/frame.py:3893\u001b[0m, in \u001b[0;36mDataFrame.__getitem__\u001b[0;34m(self, key)\u001b[0m\n\u001b[1;32m   3891\u001b[0m \u001b[38;5;28;01mif\u001b[39;00m \u001b[38;5;28mself\u001b[39m\u001b[38;5;241m.\u001b[39mcolumns\u001b[38;5;241m.\u001b[39mnlevels \u001b[38;5;241m>\u001b[39m \u001b[38;5;241m1\u001b[39m:\n\u001b[1;32m   3892\u001b[0m     \u001b[38;5;28;01mreturn\u001b[39;00m \u001b[38;5;28mself\u001b[39m\u001b[38;5;241m.\u001b[39m_getitem_multilevel(key)\n\u001b[0;32m-> 3893\u001b[0m indexer \u001b[38;5;241m=\u001b[39m \u001b[38;5;28;43mself\u001b[39;49m\u001b[38;5;241;43m.\u001b[39;49m\u001b[43mcolumns\u001b[49m\u001b[38;5;241;43m.\u001b[39;49m\u001b[43mget_loc\u001b[49m\u001b[43m(\u001b[49m\u001b[43mkey\u001b[49m\u001b[43m)\u001b[49m\n\u001b[1;32m   3894\u001b[0m \u001b[38;5;28;01mif\u001b[39;00m is_integer(indexer):\n\u001b[1;32m   3895\u001b[0m     indexer \u001b[38;5;241m=\u001b[39m [indexer]\n",
      "File \u001b[0;32m/opt/mamba/lib/python3.10/site-packages/pandas/core/indexes/base.py:3797\u001b[0m, in \u001b[0;36mIndex.get_loc\u001b[0;34m(self, key)\u001b[0m\n\u001b[1;32m   3792\u001b[0m     \u001b[38;5;28;01mif\u001b[39;00m \u001b[38;5;28misinstance\u001b[39m(casted_key, \u001b[38;5;28mslice\u001b[39m) \u001b[38;5;129;01mor\u001b[39;00m (\n\u001b[1;32m   3793\u001b[0m         \u001b[38;5;28misinstance\u001b[39m(casted_key, abc\u001b[38;5;241m.\u001b[39mIterable)\n\u001b[1;32m   3794\u001b[0m         \u001b[38;5;129;01mand\u001b[39;00m \u001b[38;5;28many\u001b[39m(\u001b[38;5;28misinstance\u001b[39m(x, \u001b[38;5;28mslice\u001b[39m) \u001b[38;5;28;01mfor\u001b[39;00m x \u001b[38;5;129;01min\u001b[39;00m casted_key)\n\u001b[1;32m   3795\u001b[0m     ):\n\u001b[1;32m   3796\u001b[0m         \u001b[38;5;28;01mraise\u001b[39;00m InvalidIndexError(key)\n\u001b[0;32m-> 3797\u001b[0m     \u001b[38;5;28;01mraise\u001b[39;00m \u001b[38;5;167;01mKeyError\u001b[39;00m(key) \u001b[38;5;28;01mfrom\u001b[39;00m \u001b[38;5;21;01merr\u001b[39;00m\n\u001b[1;32m   3798\u001b[0m \u001b[38;5;28;01mexcept\u001b[39;00m \u001b[38;5;167;01mTypeError\u001b[39;00m:\n\u001b[1;32m   3799\u001b[0m     \u001b[38;5;66;03m# If we have a listlike key, _check_indexing_error will raise\u001b[39;00m\n\u001b[1;32m   3800\u001b[0m     \u001b[38;5;66;03m#  InvalidIndexError. Otherwise we fall through and re-raise\u001b[39;00m\n\u001b[1;32m   3801\u001b[0m     \u001b[38;5;66;03m#  the TypeError.\u001b[39;00m\n\u001b[1;32m   3802\u001b[0m     \u001b[38;5;28mself\u001b[39m\u001b[38;5;241m.\u001b[39m_check_indexing_error(key)\n",
      "\u001b[0;31mKeyError\u001b[0m: 'close'"
     ]
    }
   ],
   "source": [
    "# Fonction de calcul de la moyenne mobile de l'écart type\n",
    "def moyenne_mobile_ecart_type(series, window):\n",
    "    return series.rolling(window=window).std()\n",
    "\n",
    "# Paramètres\n",
    "window = 10  # Vous pouvez ajuster la taille de la fenêtre selon vos besoins\n",
    "\n",
    "# Calcul de la moyenne mobile de l'écart type sur la colonne appropriée\n",
    "data['MMET'] = moyenne_mobile_ecart_type(data['close'], window)\n",
    "\n",
    "# Tracé des résultats\n",
    "plt.figure(figsize=(10, 6))\n",
    "plt.plot(data['close'], label='Données originales', color='blue')\n",
    "plt.plot(data['MMET'], label=f'MME de l\\'écart type (window={window})', color='green')\n",
    "plt.legend()\n",
    "plt.title('Moyenne Mobile de l\\'Écart Type')\n",
    "plt.xlabel('Date')\n",
    "plt.ylabel('Valeur')\n",
    "plt.show()"
   ]
  },
  {
   "cell_type": "code",
   "execution_count": null,
   "id": "0821af8a-eacc-4719-a42c-a4abbd4018ae",
   "metadata": {},
   "outputs": [],
   "source": [
    "This code calculates the mean squared error (MSE) for a standard averaging model.\n",
    "• First, a window size of 100 is set and the size of the training data is determined.\n",
    "• Then, for each index in the range from the window size to the size of the training data, the code calculates the mean of the previous 100 data points and appends it to a list of standard average predictions.\n",
    "• It also calculates the MSE between the predicted value and the actual value for that index and appends it to a list of MSE errors.\n",
    "• Finally, it appends the date corresponding to that index to a list of dates.\n",
    "• At the end, the code prints the MSE error for the standard averaging model by taking the mean of the MSE errors and multiplying it by 0.5.\n",
    "• The code uses the datetime module to convert dates from strings to datetime objects.\n",
    "• It also uses the numpy module for mathematical operations."
   ]
  }
 ],
 "metadata": {
  "kernelspec": {
   "display_name": "Python 3 (ipykernel)",
   "language": "python",
   "name": "python3"
  },
  "language_info": {
   "codemirror_mode": {
    "name": "ipython",
    "version": 3
   },
   "file_extension": ".py",
   "mimetype": "text/x-python",
   "name": "python",
   "nbconvert_exporter": "python",
   "pygments_lexer": "ipython3",
   "version": "3.10.13"
  }
 },
 "nbformat": 4,
 "nbformat_minor": 5
}
