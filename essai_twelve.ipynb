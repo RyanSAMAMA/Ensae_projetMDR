{
 "cells": [
  {
   "cell_type": "code",
   "execution_count": 67,
   "id": "34228c42-2ab5-4565-97b2-829e34f7c10a",
   "metadata": {},
   "outputs": [],
   "source": [
    "import requests\n",
    "import csv\n",
    "import pandas as pd\n",
    "\n",
    "\n",
    "# Avec twelve data on recupère les données boursières des GAFAM respectivement en prenant:\n",
    "# Une période d'un an allant du 01/11/2022 au 01/11/2023, les cours à 30 minutes d'intervalles, et on recolte 5000 données par indice\n",
    "response_GOOGL = requests.get(\"https://api.twelvedata.com/time_series?apikey=77d82465af6f42aa8832e39f63204307&interval=30min&symbol=GOOGL&type=stock&start_date=2022-11-01 00:00:00&end_date=2023-11-01 00:00:00&format=CSV&dp=4&outputsize=5000\")\n",
    "#response_AMZN = requests.get(\"https://api.twelvedata.com/time_series?apikey=77d82465af6f42aa8832e39f63204307&interval=30min&symbol=AAPL&start_date=2022-11-30 00:00:00&end_date=2023-11-30 00:00:00&format=CSV&outputsize=5000\")\n",
    "#response_META = requests.get(\"https://api.twelvedata.com/time_series?apikey=77d82465af6f42aa8832e39f63204307&interval=30min&symbol=AAPL&start_date=2022-11-30 00:00:00&end_date=2023-11-30 00:00:00&format=CSV&outputsize=5000\")\n",
    "#response_AAPL = requests.get(\"https://api.twelvedata.com/time_series?apikey=77d82465af6f42aa8832e39f63204307&interval=30min&symbol=AAPL&start_date=2022-11-30 00:00:00&end_date=2023-11-30 00:00:00&format=CSV&outputsize=5000\")\n",
    "#response_MSFT = requests.get(\"https://api.twelvedata.com/time_series?apikey=77d82465af6f42aa8832e39f63204307&interval=1min&symbol=MSFT&type=stock&start_date=2022-11-01 00:00:00&end_date=2023-11-01 00:00:00&format=CSV&outputsize=3000\")\n",
    "# Pour les autres en commentaires ce ne sont pas les bons url\n"
   ]
  },
  {
   "cell_type": "code",
   "execution_count": 68,
   "id": "0e587024-28e3-4970-8e47-68c5fb39c4b7",
   "metadata": {},
   "outputs": [
    {
     "name": "stdout",
     "output_type": "stream",
     "text": [
      "Les données ont été enregistrées avec succès dans data_GOOGL\n"
     ]
    }
   ],
   "source": [
    "# On convertit les requetes en des fichiers Csv, qu'on nomme explicitement en fonction de chaque indice\n",
    "\n",
    "def response_to_csv(response, csv_filename='output.csv'):\n",
    "    try:\n",
    "        response.raise_for_status()  # Lève une exception si la requête n'a pas réussi\n",
    "\n",
    "        data = [line.split(';') for line in response.text.split('\\n')]\n",
    "\n",
    "        with open(csv_filename, 'w', newline='') as csv_file:\n",
    "            csv.writer(csv_file, delimiter=' ').writerows(data)\n",
    "\n",
    "        print(f\"Les données ont été enregistrées avec succès dans {csv_filename}\")\n",
    "\n",
    "    except requests.exceptions.RequestException as err:\n",
    "        print(f\"Erreur de requête : {err}\")\n",
    "\n",
    "response_to_csv(response_GOOGL, 'data_GOOGL')\n",
    "#response_to_csv(response_AMZN, 'data_AMZN')\n",
    "#response_to_csv(response_META, 'data_META')\n",
    "#response_to_csv(response_AAPL, 'data_AAPL')\n",
    "#response_to_csv(response_MSFT, 'data_MSFT')"
   ]
  },
  {
   "cell_type": "code",
   "execution_count": 71,
   "id": "ad008afd-3bfb-4891-acfb-f7f0bb466846",
   "metadata": {},
   "outputs": [
    {
     "data": {
      "text/html": [
       "<div>\n",
       "<style scoped>\n",
       "    .dataframe tbody tr th:only-of-type {\n",
       "        vertical-align: middle;\n",
       "    }\n",
       "\n",
       "    .dataframe tbody tr th {\n",
       "        vertical-align: top;\n",
       "    }\n",
       "\n",
       "    .dataframe thead th {\n",
       "        text-align: right;\n",
       "    }\n",
       "</style>\n",
       "<table border=\"1\" class=\"dataframe\">\n",
       "  <thead>\n",
       "    <tr style=\"text-align: right;\">\n",
       "      <th></th>\n",
       "      <th>datetime open high low close volume</th>\n",
       "    </tr>\n",
       "  </thead>\n",
       "  <tbody>\n",
       "    <tr>\n",
       "      <th>0</th>\n",
       "      <td>2023-10-31 15:30:00 123.9300 124.2200 123.8300...</td>\n",
       "    </tr>\n",
       "    <tr>\n",
       "      <th>1</th>\n",
       "      <td>2023-10-31 15:00:00 123.7800 124.0050 123.7400...</td>\n",
       "    </tr>\n",
       "    <tr>\n",
       "      <th>2</th>\n",
       "      <td>2023-10-31 14:30:00 123.3800 123.8700 123.3100...</td>\n",
       "    </tr>\n",
       "    <tr>\n",
       "      <th>3</th>\n",
       "      <td>2023-10-31 14:00:00 123.5400 123.8050 123.3600...</td>\n",
       "    </tr>\n",
       "  </tbody>\n",
       "</table>\n",
       "</div>"
      ],
      "text/plain": [
       "                 datetime open high low close volume\n",
       "0  2023-10-31 15:30:00 123.9300 124.2200 123.8300...\n",
       "1  2023-10-31 15:00:00 123.7800 124.0050 123.7400...\n",
       "2  2023-10-31 14:30:00 123.3800 123.8700 123.3100...\n",
       "3  2023-10-31 14:00:00 123.5400 123.8050 123.3600..."
      ]
     },
     "execution_count": 71,
     "metadata": {},
     "output_type": "execute_result"
    }
   ],
   "source": [
    "# Observations des données contenues dans les fichiers csv sous forme de dataframes\n",
    "\n",
    "# Chemin vers le fichier CSV\n",
    "csv_filename = 'data_GOOGL'\n",
    "\n",
    "# Chargez le fichier CSV dans un DataFrame\n",
    "df_GOOGL = pd.read_csv(csv_filename, delimiter=';')  \n",
    "\n",
    "df_GOOGL.head(4)\n",
    "\n",
    "# On crée une colonne moyenne pour regarde les moyennes journalières des cours\n",
    "#df_GOOGL['Daymean'] = [ for i in range() if "
   ]
  },
  {
   "cell_type": "code",
   "execution_count": null,
   "id": "2c9c6a87-c498-4bfc-b4fe-ab81ae094b38",
   "metadata": {},
   "outputs": [],
   "source": []
  },
  {
   "cell_type": "code",
   "execution_count": null,
   "id": "dda92a9d-3b90-405e-8374-890d267b71cb",
   "metadata": {},
   "outputs": [],
   "source": []
  }
 ],
 "metadata": {
  "kernelspec": {
   "display_name": "Python 3 (ipykernel)",
   "language": "python",
   "name": "python3"
  },
  "language_info": {
   "codemirror_mode": {
    "name": "ipython",
    "version": 3
   },
   "file_extension": ".py",
   "mimetype": "text/x-python",
   "name": "python",
   "nbconvert_exporter": "python",
   "pygments_lexer": "ipython3",
   "version": "3.10.13"
  }
 },
 "nbformat": 4,
 "nbformat_minor": 5
}
