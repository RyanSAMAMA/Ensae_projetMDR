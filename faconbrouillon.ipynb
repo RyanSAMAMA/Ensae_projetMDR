{
 "cells": [
  {
   "cell_type": "code",
   "execution_count": null,
   "id": "8e02d621-b34e-4c84-b02e-8284af69e192",
   "metadata": {},
   "outputs": [],
   "source": [
    "for i in range(10) \n",
    "    A= liste vide année \n",
    "    V= liste vide \n",
    "    calcul pr l'année i \n",
    "    A.append (2023-i ; ......) -> l'inverser pour commencer par 2002 \n",
    "    V.append( volatilité)\n",
    "\n",
    "et ensuite plot (matplotlib ou pilot) de A et V "
   ]
  },
  {
   "cell_type": "code",
   "execution_count": 92,
   "id": "a64e8eea-07e9-4d00-bd38-b1f28fcc3049",
   "metadata": {},
   "outputs": [
    {
     "name": "stdout",
     "output_type": "stream",
     "text": [
      "[*********************100%%**********************]  1 of 1 completed\n",
      "[*********************100%%**********************]  1 of 1 completed\n",
      "[*********************100%%**********************]  1 of 1 completed\n",
      "[*********************100%%**********************]  1 of 1 completed\n",
      "[*********************100%%**********************]  1 of 1 completed\n",
      "[*********************100%%**********************]  1 of 1 completed\n",
      "[*********************100%%**********************]  1 of 1 completed\n",
      "[*********************100%%**********************]  1 of 1 completed\n",
      "[*********************100%%**********************]  1 of 1 completed\n",
      "[*********************100%%**********************]  1 of 1 completed\n",
      "[2014, 2015, 2016, 2017, 2018, 2019, 2020, 2021, 2022, 2023]\n",
      "[0.15242382441041916, 0.22649493117050784, 0.21881236309248925, 0.10597372177224804, 0.1278805153596491, 0.1426213943689208, 0.32518246094511893, 0.13615442431967675, 0.22603697667382122, 0.14633236455915308]\n"
     ]
    }
   ],
   "source": [
    "import pandas as pd\n",
    "import numpy as np\n",
    "import yfinance as yf\n",
    "\n",
    "A=[]\n",
    "V=[]\n",
    "for i in range(10):\n",
    "    data = yf.download(\"^FCHI\", start=str(2023-i-1)+\"-11-30\", end=str(2023-i)+\"-11-30\", interval = \"1d\")\n",
    "    returns = data['Close'].pct_change(fill_method=None).dropna()\n",
    "    hist_vol = np.sqrt(len(returns)) * returns.std()\n",
    "    A.append(2023-i)\n",
    "    V.append(hist_vol)\n",
    "A=A[::-1]\n",
    "V=V[::-1]\n",
    "print(A)\n",
    "print(V)"
   ]
  },
  {
   "cell_type": "code",
   "execution_count": null,
   "id": "8ffc32e5-fc85-4f79-935a-0eba7292ca96",
   "metadata": {},
   "outputs": [],
   "source": []
  }
 ],
 "metadata": {
  "kernelspec": {
   "display_name": "Python 3 (ipykernel)",
   "language": "python",
   "name": "python3"
  },
  "language_info": {
   "codemirror_mode": {
    "name": "ipython",
    "version": 3
   },
   "file_extension": ".py",
   "mimetype": "text/x-python",
   "name": "python",
   "nbconvert_exporter": "python",
   "pygments_lexer": "ipython3",
   "version": "3.10.13"
  }
 },
 "nbformat": 4,
 "nbformat_minor": 5
}
