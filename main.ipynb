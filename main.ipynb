{
 "cells": [
  {
   "cell_type": "markdown",
   "id": "d8dccd87-b0fa-493e-b424-2e6a08a21e21",
   "metadata": {},
   "source": [
    "# 1.Introduction\n",
    "\n",
    "Ce projet à pour but d'étudier la volatilité "
   ]
  },
  {
   "cell_type": "code",
   "execution_count": null,
   "id": "6f01e838-5bdb-4a07-a9b9-d9692632b27a",
   "metadata": {},
   "outputs": [],
   "source": []
  }
 ],
 "metadata": {
  "kernelspec": {
   "display_name": "Python 3 (ipykernel)",
   "language": "python",
   "name": "python3"
  },
  "language_info": {
   "codemirror_mode": {
    "name": "ipython",
    "version": 3
   },
   "file_extension": ".py",
   "mimetype": "text/x-python",
   "name": "python",
   "nbconvert_exporter": "python",
   "pygments_lexer": "ipython3",
   "version": "3.10.13"
  }
 },
 "nbformat": 4,
 "nbformat_minor": 5
}
